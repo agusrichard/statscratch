{
  "nbformat": 4,
  "nbformat_minor": 0,
  "metadata": {
    "colab": {
      "name": "discrete_distribution.ipynb",
      "provenance": [],
      "collapsed_sections": []
    },
    "kernelspec": {
      "name": "python3",
      "display_name": "Python 3"
    }
  },
  "cells": [
    {
      "cell_type": "markdown",
      "metadata": {
        "id": "f_sREOulIhYt",
        "colab_type": "text"
      },
      "source": [
        "# Playground: Discrete Distribution"
      ]
    },
    {
      "cell_type": "code",
      "metadata": {
        "id": "U_AkijQcIpmK",
        "colab_type": "code",
        "colab": {
          "base_uri": "https://localhost:8080/",
          "height": 71
        },
        "outputId": "04a34baa-5ee9-408c-d387-9235e7b5850b"
      },
      "source": [
        "import functools\n",
        "import numpy as np\n",
        "import matplotlib.pyplot as plt\n",
        "import seaborn as sns\n",
        "plt.style.use('ggplot')"
      ],
      "execution_count": 1,
      "outputs": [
        {
          "output_type": "stream",
          "text": [
            "/usr/local/lib/python3.6/dist-packages/statsmodels/tools/_testing.py:19: FutureWarning: pandas.util.testing is deprecated. Use the functions in the public API at pandas.testing instead.\n",
            "  import pandas.util.testing as tm\n"
          ],
          "name": "stderr"
        }
      ]
    },
    {
      "cell_type": "markdown",
      "metadata": {
        "id": "Rwhdg9XwKgyx",
        "colab_type": "text"
      },
      "source": [
        "## Helper functions"
      ]
    },
    {
      "cell_type": "code",
      "metadata": {
        "id": "mKCtxDXvKit_",
        "colab_type": "code",
        "colab": {}
      },
      "source": [
        "def factorial(x, recursive=False):\n",
        "    \"\"\"\n",
        "    Calculate factorial of x (x!) iteratively or recursively.\n",
        "\n",
        "    Parameters\n",
        "    ----------\n",
        "    x : int\n",
        "        Value for factorial... x!\n",
        "    recursive : bool, default False\n",
        "        If True, the calculation using recursion, else using iteration\n",
        "    \"\"\"\n",
        "    if x < 0:\n",
        "        raise ValueError('x can not negative')\n",
        "    elif type(x) == float:\n",
        "        raise TypeError('x must be an integer')\n",
        "    elif x == 0:\n",
        "        return 1\n",
        "    else:\n",
        "        if recursive:\n",
        "            if x == 1:\n",
        "                return x\n",
        "            else:\n",
        "                return x * factorial(x - 1)\n",
        "        else:\n",
        "            mult = 1\n",
        "            for i in range(1, x + 1):\n",
        "                mult *= i\n",
        "            return mult"
      ],
      "execution_count": 2,
      "outputs": []
    },
    {
      "cell_type": "code",
      "metadata": {
        "id": "e9nFsakDO5Um",
        "colab_type": "code",
        "colab": {}
      },
      "source": [
        "def combination(n, x, **factorial_kwargs):\n",
        "    \"\"\"\n",
        "    Calculate C(n, x)\n",
        "\n",
        "    Parameters\n",
        "    ----------\n",
        "    n : int\n",
        "        Total number of items\n",
        "    x : int\n",
        "        Total number of items chosen\n",
        "    **factorial_kwargs : bool, default False\n",
        "        True, use recursion. False, use iteration\n",
        "    \"\"\"\n",
        "    if type(n) != int and type(x) != int:\n",
        "        raise TypeError('n and x must be integers')\n",
        "    elif x > n:\n",
        "        raise ValueError('x can not larger than n')\n",
        "    else:\n",
        "        return int(factorial(n, **factorial_kwargs) / (factorial(n-x, **factorial_kwargs) * factorial(x, **factorial_kwargs)))"
      ],
      "execution_count": 3,
      "outputs": []
    },
    {
      "cell_type": "code",
      "metadata": {
        "id": "wfRGKJVTmISO",
        "colab_type": "code",
        "colab": {}
      },
      "source": [
        "def multi_combination(n, *xs, **factorial_kwargs):\n",
        "    \"\"\"\n",
        "    Calculate C(n, (x1, x2, x3, ..., xk))\n",
        "\n",
        "    Parameters\n",
        "    ----------\n",
        "    n : int\n",
        "        The total number of trials\n",
        "    *xs : list of ints\n",
        "        The number of successes for each kind. \n",
        "    **factorial_kwargs\n",
        "        keyword arguments for factorial\n",
        "\n",
        "    \"\"\"\n",
        "    if type(n) != int:\n",
        "        raise TypeError('n must be an integer')\n",
        "    else:\n",
        "        xs = [1] + list(xs)\n",
        "        print(xs)\n",
        "        denominator = functools.reduce(lambda prev, curr: prev * factorial(curr, **factorial_kwargs), xs)\n",
        "        print(denominator)\n",
        "        print(factorial(n))\n",
        "        return int(factorial(n, **factorial_kwargs) / denominator)"
      ],
      "execution_count": 4,
      "outputs": []
    },
    {
      "cell_type": "markdown",
      "metadata": {
        "id": "wXtEIWV8I3Lr",
        "colab_type": "text"
      },
      "source": [
        "## Binomial Distribution"
      ]
    },
    {
      "cell_type": "code",
      "metadata": {
        "id": "WKSZBBJxI55o",
        "colab_type": "code",
        "colab": {}
      },
      "source": [
        "def binomial_pmf(x, n, p, **factorial_kwargs):\n",
        "    \"\"\"\n",
        "    Calculate Binomial Probability Mass Function\n",
        "\n",
        "    Parameters\n",
        "    ----------\n",
        "    x : int\n",
        "        The Number of successes\n",
        "    n : int\n",
        "        The total number of Bernoulli Trials\n",
        "    P : float\n",
        "        Probability for Bernoulli Trial\n",
        "    **factorial_kwargs : bool, default False\n",
        "        Keyword for factorial calculation\n",
        "\n",
        "    Returns\n",
        "    -------\n",
        "    pmf, mean, std\n",
        "\n",
        "    pmf : numeric\n",
        "        Probability Mass Function\n",
        "    mean : numeric\n",
        "    std : numeric, Standard Deviation\n",
        "    \"\"\"\n",
        "\n",
        "    if type(x) != int and type(n) != int and type(p) != float:\n",
        "        raise TypeError('x and n must be integers, and p must be a float')\n",
        "    elif p < 0 and p > 1:\n",
        "        raise ValueError('p must between 0 and 1, inclusive')\n",
        "    elif x > n:\n",
        "        raise ValueError('x can not larger than n')\n",
        "    else:\n",
        "        calculated = combination(n, x, **factorial_kwargs) * (p ** x) * ((1 - p) ** (n - x))\n",
        "        mean = n * p\n",
        "        std = np.sqrt(mean * (1 - p))\n",
        "        return calculated, mean, std"
      ],
      "execution_count": 5,
      "outputs": []
    },
    {
      "cell_type": "code",
      "metadata": {
        "id": "S6-U9zd5r-Yd",
        "colab_type": "code",
        "colab": {}
      },
      "source": [
        "def binomial_cmf(n, p, **factorial_kwargs):\n",
        "    \"\"\"\n",
        "    Calculate Binomial Cummulative Probability Mass Function\n",
        "\n",
        "    Parameters\n",
        "    ----------\n",
        "    x : int\n",
        "        The Number of successes\n",
        "    n : int\n",
        "        The total number of Bernoulli Trials\n",
        "    P : float\n",
        "        Probability for Bernoulli Trial\n",
        "    **factorial_kwargs : bool, default False\n",
        "        Keyword for factorial calculation\n",
        "    \"\"\"\n",
        "    sums = np.array([binomial_pmf(i, n, p)[0] for i in range(0, n + 1)])\n",
        "    csum = sums.cumsum()\n",
        "    return sums, csum, csum[-1]"
      ],
      "execution_count": 6,
      "outputs": []
    },
    {
      "cell_type": "markdown",
      "metadata": {
        "id": "lr5huQ-FlRxp",
        "colab_type": "text"
      },
      "source": [
        "## Multinomial Distribution"
      ]
    }
  ]
}