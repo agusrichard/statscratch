{
  "nbformat": 4,
  "nbformat_minor": 0,
  "metadata": {
    "colab": {
      "name": "discrete_distribution.ipynb",
      "provenance": []
    },
    "kernelspec": {
      "name": "python3",
      "display_name": "Python 3"
    }
  },
  "cells": [
    {
      "cell_type": "markdown",
      "metadata": {
        "id": "f_sREOulIhYt",
        "colab_type": "text"
      },
      "source": [
        "# Playground: Discrete Distribution"
      ]
    },
    {
      "cell_type": "code",
      "metadata": {
        "id": "U_AkijQcIpmK",
        "colab_type": "code",
        "colab": {
          "base_uri": "https://localhost:8080/",
          "height": 71
        },
        "outputId": "483d45d0-55db-434d-a2f2-894346362f04"
      },
      "source": [
        "import numpy as np\n",
        "import matplotlib.pyplot as plt\n",
        "import seaborn as sns\n",
        "plt.style.use('ggplot')"
      ],
      "execution_count": 1,
      "outputs": [
        {
          "output_type": "stream",
          "text": [
            "/usr/local/lib/python3.6/dist-packages/statsmodels/tools/_testing.py:19: FutureWarning: pandas.util.testing is deprecated. Use the functions in the public API at pandas.testing instead.\n",
            "  import pandas.util.testing as tm\n"
          ],
          "name": "stderr"
        }
      ]
    },
    {
      "cell_type": "markdown",
      "metadata": {
        "id": "Rwhdg9XwKgyx",
        "colab_type": "text"
      },
      "source": [
        "## Helper functions"
      ]
    },
    {
      "cell_type": "code",
      "metadata": {
        "id": "mKCtxDXvKit_",
        "colab_type": "code",
        "colab": {}
      },
      "source": [
        "def factorial(x, recursive=False):\n",
        "    \"\"\"\n",
        "    Calculate factorial of x (x!) iteratively or recursively.\n",
        "\n",
        "    Parameters\n",
        "    ----------\n",
        "    x : int\n",
        "        Value for factorial... x!\n",
        "    recursive : bool, default False\n",
        "        If True, the calculation using recursion, else using iteration\n",
        "    \"\"\"\n",
        "    if x < 1:\n",
        "        raise ValueError('x can not negative')\n",
        "    elif type(x) == float:\n",
        "        raise TypeError('x must be an integer')\n",
        "    else:\n",
        "        if recursive:\n",
        "            if x == 1:\n",
        "                return x\n",
        "            else:\n",
        "                return x * factorial(x - 1)\n",
        "        else:\n",
        "            mult = 1\n",
        "            for i in range(1, x + 1):\n",
        "                mult *= i\n",
        "            return mult"
      ],
      "execution_count": 30,
      "outputs": []
    },
    {
      "cell_type": "code",
      "metadata": {
        "id": "e9nFsakDO5Um",
        "colab_type": "code",
        "colab": {}
      },
      "source": [
        "def combination(n, x, recursive=False):\n",
        "    \"\"\"\n",
        "    Calculate C(n, x)\n",
        "\n",
        "    Parameters\n",
        "    ----------\n",
        "    n : int\n",
        "        Total number of items\n",
        "    x : int\n",
        "        Total number of items chosen\n",
        "    recursive : bool, default False\n",
        "        True, use recursion. False, use iteration\n",
        "    \"\"\"\n",
        "    if type(n) != int and type(x) != int:\n",
        "        raise TypeError('n and x must be integers')\n",
        "    else:\n",
        "        return int(factorial(n, recursive=recursive) / (factorial(n-x, recursive=recursive) * factorial(x, recursive=recursive)))"
      ],
      "execution_count": 33,
      "outputs": []
    },
    {
      "cell_type": "code",
      "metadata": {
        "id": "ya-08jicPnmm",
        "colab_type": "code",
        "colab": {
          "base_uri": "https://localhost:8080/",
          "height": 34
        },
        "outputId": "84ca3500-7e1c-4a6e-e3e8-352f855229a6"
      },
      "source": [
        "combination(10, 8)"
      ],
      "execution_count": 32,
      "outputs": [
        {
          "output_type": "execute_result",
          "data": {
            "text/plain": [
              "45"
            ]
          },
          "metadata": {
            "tags": []
          },
          "execution_count": 32
        }
      ]
    },
    {
      "cell_type": "markdown",
      "metadata": {
        "id": "wXtEIWV8I3Lr",
        "colab_type": "text"
      },
      "source": [
        "## Binomial Distribution"
      ]
    },
    {
      "cell_type": "code",
      "metadata": {
        "id": "WKSZBBJxI55o",
        "colab_type": "code",
        "colab": {}
      },
      "source": [
        "def binomial_pmf(x, n, p, bootstrap=False):\n",
        "    \"\"\"\n",
        "        \n",
        "    \"\"\"\n",
        "\n",
        "    if type(x) != int and type(n) != int and type(p) != float:\n",
        "        raise TypeError('x and n must be integers, and p must be a float')\n",
        "    elif p < 0 and p > 1:\n",
        "        raise ValueError('p must between 0 and 1, inclusive')\n",
        "    else:\n",
        "        return combination(n, x) * (p ** x) * ((1 - p) ** (n - x))"
      ],
      "execution_count": 35,
      "outputs": []
    },
    {
      "cell_type": "code",
      "metadata": {
        "id": "hZSya3LROj_O",
        "colab_type": "code",
        "colab": {
          "base_uri": "https://localhost:8080/",
          "height": 34
        },
        "outputId": "6d36b90f-5025-487f-ff6a-d2fa49105eec"
      },
      "source": [
        "binomial_pmf(5, 10, 0.5)"
      ],
      "execution_count": 36,
      "outputs": [
        {
          "output_type": "execute_result",
          "data": {
            "text/plain": [
              "0.24609375"
            ]
          },
          "metadata": {
            "tags": []
          },
          "execution_count": 36
        }
      ]
    }
  ]
}