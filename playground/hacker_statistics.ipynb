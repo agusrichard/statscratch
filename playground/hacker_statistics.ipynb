{
  "nbformat": 4,
  "nbformat_minor": 0,
  "metadata": {
    "colab": {
      "name": "hacker_statistics.ipynb",
      "provenance": [],
      "collapsed_sections": []
    },
    "kernelspec": {
      "name": "python3",
      "display_name": "Python 3"
    }
  },
  "cells": [
    {
      "cell_type": "markdown",
      "metadata": {
        "id": "iptHnSbhQXy1",
        "colab_type": "text"
      },
      "source": [
        "# Hacker Statistics"
      ]
    },
    {
      "cell_type": "code",
      "metadata": {
        "id": "djBqD2TKQo6k",
        "colab_type": "code",
        "colab": {
          "base_uri": "https://localhost:8080/",
          "height": 71
        },
        "outputId": "126676ec-234d-4f08-c0c0-e11b486ad715"
      },
      "source": [
        "import numpy as np\n",
        "import pandas as pd\n",
        "import matplotlib.pyplot as plt\n",
        "import seaborn as sns\n",
        "plt.style.use('ggplot')"
      ],
      "execution_count": 1,
      "outputs": [
        {
          "output_type": "stream",
          "text": [
            "/usr/local/lib/python3.6/dist-packages/statsmodels/tools/_testing.py:19: FutureWarning: pandas.util.testing is deprecated. Use the functions in the public API at pandas.testing instead.\n",
            "  import pandas.util.testing as tm\n"
          ],
          "name": "stderr"
        }
      ]
    },
    {
      "cell_type": "markdown",
      "metadata": {
        "id": "gC56R6RdiDOO",
        "colab_type": "text"
      },
      "source": [
        "## Bernoulli Process"
      ]
    },
    {
      "cell_type": "code",
      "metadata": {
        "id": "6yqVoqPLQxIj",
        "colab_type": "code",
        "colab": {}
      },
      "source": [
        "def bernoulli_process(n, p, repeated=False, n_reps=1000, random_state=None):\n",
        "    \"\"\"\n",
        "    Create bernoulli process with n trials and probability p\n",
        "\n",
        "    Parameters\n",
        "    ----------\n",
        "    n : int\n",
        "        Specifying the total number of trials\n",
        "    p : float, between 0 and 1\n",
        "        Specifying the probability of bernoulli trial happening\n",
        "    repeated : bool, default True\n",
        "        If True the bernolli process will be repeated n_reps (default=1000)\n",
        "        return an array of success for each repetition\n",
        "    n_reps : int, default 1000\n",
        "        Number of repetitions performed if repeated=True\n",
        "\n",
        "    Returns\n",
        "    -------\n",
        "    num_success : int, if repeated False\n",
        "        Number of success for n trials\n",
        "    num_successes : ndarray shape (n_reps,) if repeated True\n",
        "        Array containing number of successes\n",
        "    \"\"\"\n",
        "\n",
        "    def inner():\n",
        "        random_arr = np.random.random(n)\n",
        "        return (random_arr < p).sum()\n",
        "        \n",
        "    if random_state != None:\n",
        "        np.random.seed(random_state)\n",
        "\n",
        "    if repeated:\n",
        "        num_successes = np.empty(n_reps)\n",
        "        for i in range(n_reps):\n",
        "            num_successes[i] = inner()\n",
        "        return num_successes\n",
        "    else:\n",
        "        num_success = inner()\n",
        "        return num_success"
      ],
      "execution_count": 0,
      "outputs": []
    },
    {
      "cell_type": "code",
      "metadata": {
        "id": "1j8JJN-AiGoG",
        "colab_type": "code",
        "outputId": "6561ec55-94d5-41c6-eb05-db6e7b807812",
        "colab": {
          "base_uri": "https://localhost:8080/",
          "height": 34
        }
      },
      "source": [
        "bernoulli_process(100, 0.1)"
      ],
      "execution_count": 3,
      "outputs": [
        {
          "output_type": "execute_result",
          "data": {
            "text/plain": [
              "17"
            ]
          },
          "metadata": {
            "tags": []
          },
          "execution_count": 3
        }
      ]
    },
    {
      "cell_type": "markdown",
      "metadata": {
        "id": "rucLpeyQiLVs",
        "colab_type": "text"
      },
      "source": [
        "## Binomial PMF"
      ]
    },
    {
      "cell_type": "code",
      "metadata": {
        "id": "JqM8UPV2borg",
        "colab_type": "code",
        "colab": {}
      },
      "source": [
        "def binomial_pmf(x, n, p, n_reps=10000, random_state=None):\n",
        "    \"\"\"\n",
        "    Calculate binomial probability mass function\n",
        "\n",
        "    Paremeters\n",
        "    ----------\n",
        "    x : int\n",
        "        Number of successes\n",
        "    n : int\n",
        "        Number of bernoulli trials\n",
        "    p : float\n",
        "        Probability of single bernoulli trial\n",
        "    n_reps : int, default 10000\n",
        "        Number of repetitions using for simulation\n",
        "    random_state : number, default None\n",
        "        Specify the seed for pseudo-random generator\n",
        "\n",
        "    Return\n",
        "    ------\n",
        "    The calculated binomial PMF\n",
        "    \"\"\"\n",
        "\n",
        "    if random_state is not None:\n",
        "        np.random.seed(random_state)\n",
        "    \n",
        "    dist = np.empty(n_reps, dtype=bool)\n",
        "    for i in range(n_reps):\n",
        "        random_arr = np.random.random(n)\n",
        "        mask = random_arr < p\n",
        "        if mask.sum() == x:\n",
        "            dist[i] = True\n",
        "        else:\n",
        "            dist[i] = False\n",
        "    return dist.mean()"
      ],
      "execution_count": 0,
      "outputs": []
    },
    {
      "cell_type": "code",
      "metadata": {
        "id": "-bk5MZSPiUCN",
        "colab_type": "code",
        "outputId": "afab6466-97e4-471d-f4d9-29938b82d5a6",
        "colab": {
          "base_uri": "https://localhost:8080/",
          "height": 34
        }
      },
      "source": [
        "binomial_pmf(7, 10, 0.2)"
      ],
      "execution_count": 5,
      "outputs": [
        {
          "output_type": "execute_result",
          "data": {
            "text/plain": [
              "0.0003"
            ]
          },
          "metadata": {
            "tags": []
          },
          "execution_count": 5
        }
      ]
    },
    {
      "cell_type": "code",
      "metadata": {
        "id": "0wsMWbRzjH7n",
        "colab_type": "code",
        "outputId": "842783e4-3201-4e7a-8e94-22b2f96996b7",
        "colab": {
          "base_uri": "https://localhost:8080/",
          "height": 269
        }
      },
      "source": [
        "vectorized = np.vectorize(lambda x: binomial_pmf(x, 50, 0.5))\n",
        "arr = vectorized(np.arange(50))\n",
        "plt.plot(np.arange(50), arr);"
      ],
      "execution_count": 6,
      "outputs": [
        {
          "output_type": "display_data",
          "data": {
            "image/png": "[encoded data removed]",
            "text/plain": [
              "<Figure size 432x288 with 1 Axes>"
            ]
          },
          "metadata": {
            "tags": [],
            "needs_background": "light"
          }
        }
      ]
    },
    {
      "cell_type": "markdown",
      "metadata": {
        "id": "mbdWsHUoiVI0",
        "colab_type": "text"
      },
      "source": [
        "## Binomial Range"
      ]
    },
    {
      "cell_type": "code",
      "metadata": {
        "id": "eREhWWtagrz_",
        "colab_type": "code",
        "colab": {}
      },
      "source": [
        "def binomial_range(x, n, p, n_reps=10000, random_state=None):\n",
        "    \"\"\"\n",
        "    Calculate binomial probability mass function from 0 to x\n",
        "\n",
        "    Paremeters\n",
        "    ----------\n",
        "    x : int\n",
        "        Number of successes\n",
        "    n : int\n",
        "        Number of bernoulli trials\n",
        "    p : float\n",
        "        Probability of single bernoulli trial\n",
        "    n_reps : int, default 10000\n",
        "        Number of repetitions using for simulation\n",
        "    random_state : number, default None\n",
        "        Specify the seed for pseudo-random generator\n",
        "\n",
        "    Return\n",
        "    ------\n",
        "    Binomial array containing binomial PMF from 0 to x\n",
        "    \"\"\"\n",
        "\n",
        "    cumsum = np.empty(x + 1)\n",
        "    for i in range(cumsum.shape[0]):\n",
        "        cumsum[i] = binomial_pmf(i, n, p, n_reps=n_reps, random_state=random_state)\n",
        "    return cumsum"
      ],
      "execution_count": 0,
      "outputs": []
    },
    {
      "cell_type": "code",
      "metadata": {
        "id": "VjfEP0BXDAo3",
        "colab_type": "code",
        "outputId": "baf42f55-5cac-417f-b7b8-48ff2bdd0975",
        "colab": {
          "base_uri": "https://localhost:8080/",
          "height": 265
        }
      },
      "source": [
        "arr = binomial_range(50, 50, 0.5)\n",
        "plt.plot(np.arange(0, 51), arr)\n",
        "plt.plot(np.arange(0, 51), arr.cumsum());"
      ],
      "execution_count": 8,
      "outputs": [
        {
          "output_type": "display_data",
          "data": {
            "image/png": "[encoded data removed]",
            "text/plain": [
              "<Figure size 432x288 with 1 Axes>"
            ]
          },
          "metadata": {
            "tags": [],
            "needs_background": "light"
          }
        }
      ]
    },
    {
      "cell_type": "markdown",
      "metadata": {
        "id": "mt3Lc92GEUC_",
        "colab_type": "text"
      },
      "source": [
        "## Multinomial PMF"
      ]
    },
    {
      "cell_type": "code",
      "metadata": {
        "id": "u3-udrKnEi3Z",
        "colab_type": "code",
        "colab": {}
      },
      "source": [
        "def multinomial_pmf(list_of_xps, n_reps=100000, random_state=None):\n",
        "    \"\"\"\n",
        "\n",
        "    \"\"\"\n",
        "\n",
        "    if random_state is not None:\n",
        "        np.random.seed(random_state)\n",
        "\n",
        "    # calculating the number of trials\n",
        "    list_size = len(list_of_xps)\n",
        "    n = 0\n",
        "    for ind in range(list_size):\n",
        "        n += list_of_xps[ind][0]\n",
        "\n",
        "    dist = np.empty(shape=(list_size, n_reps), dtype=bool)\n",
        "    for i in range(list_size):\n",
        "        x, p = list_of_xps[i]\n",
        "        for j in range(n_reps):\n",
        "            mask = np.random.random(n) < p\n",
        "            # print(mask.sum())\n",
        "            if mask.sum() == x:\n",
        "                dist[i, j] = True\n",
        "            else:\n",
        "                dist[i, j] = False\n",
        "        # print(dist[i])\n",
        "    return np.all(dist, axis=0).mean()"
      ],
      "execution_count": 0,
      "outputs": []
    },
    {
      "cell_type": "markdown",
      "metadata": {
        "id": "u3xV1DAE1iQV",
        "colab_type": "text"
      },
      "source": [
        "## Simulating Sampling Distribution of Means"
      ]
    },
    {
      "cell_type": "code",
      "metadata": {
        "id": "l7iArftm1mbY",
        "colab_type": "code",
        "colab": {}
      },
      "source": [
        "normal = np.random.normal(50, 5, size=10000)"
      ],
      "execution_count": 0,
      "outputs": []
    },
    {
      "cell_type": "code",
      "metadata": {
        "id": "WT9dr-NQ2NbI",
        "colab_type": "code",
        "colab": {
          "base_uri": "https://localhost:8080/",
          "height": 282
        },
        "outputId": "79b9ab0c-df4c-4bf8-8e7c-dde9bdb213c8"
      },
      "source": [
        "sns.distplot(normal)"
      ],
      "execution_count": 24,
      "outputs": [
        {
          "output_type": "execute_result",
          "data": {
            "text/plain": [
              "<matplotlib.axes._subplots.AxesSubplot at 0x7fcbf4c3da20>"
            ]
          },
          "metadata": {
            "tags": []
          },
          "execution_count": 24
        },
        {
          "output_type": "display_data",
          "data": {
            "image/png": "[encoded data removed]",
            "text/plain": [
              "<Figure size 432x288 with 1 Axes>"
            ]
          },
          "metadata": {
            "tags": [],
            "needs_background": "light"
          }
        }
      ]
    },
    {
      "cell_type": "code",
      "metadata": {
        "id": "W4UIYX8q2QeY",
        "colab_type": "code",
        "colab": {
          "base_uri": "https://localhost:8080/",
          "height": 34
        },
        "outputId": "a6a10828-b387-4392-bae4-b594ca9f54c4"
      },
      "source": [
        "sample = np.random.choice(normal, size=100, replace=False)\n",
        "sample[:5]"
      ],
      "execution_count": 30,
      "outputs": [
        {
          "output_type": "execute_result",
          "data": {
            "text/plain": [
              "array([45.47413667, 46.74151571, 54.48108927, 50.45045977, 36.2167776 ])"
            ]
          },
          "metadata": {
            "tags": []
          },
          "execution_count": 30
        }
      ]
    },
    {
      "cell_type": "code",
      "metadata": {
        "id": "fYHLNuYt2Y99",
        "colab_type": "code",
        "colab": {}
      },
      "source": [
        "bootstrap_replicates = np.empty(10000)\n",
        "for i in range(10000):\n",
        "    bootstrap_sample = np.random.choice(sample, size=sample.shape[0])\n",
        "    bootstrap_replicates[i] = bootstrap_sample.mean()"
      ],
      "execution_count": 0,
      "outputs": []
    },
    {
      "cell_type": "code",
      "metadata": {
        "id": "ERqP3Exw3EQF",
        "colab_type": "code",
        "colab": {
          "base_uri": "https://localhost:8080/",
          "height": 282
        },
        "outputId": "a1495f15-1d3c-4f01-e2ef-ff004b622772"
      },
      "source": [
        "sns.distplot(bootstrap_replicates)"
      ],
      "execution_count": 32,
      "outputs": [
        {
          "output_type": "execute_result",
          "data": {
            "text/plain": [
              "<matplotlib.axes._subplots.AxesSubplot at 0x7fcbf4a06ac8>"
            ]
          },
          "metadata": {
            "tags": []
          },
          "execution_count": 32
        },
        {
          "output_type": "display_data",
          "data": {
            "image/png": "[encoded data removed]",
            "text/plain": [
              "<Figure size 432x288 with 1 Axes>"
            ]
          },
          "metadata": {
            "tags": [],
            "needs_background": "light"
          }
        }
      ]
    },
    {
      "cell_type": "code",
      "metadata": {
        "id": "54LBZL8z3MsG",
        "colab_type": "code",
        "colab": {
          "base_uri": "https://localhost:8080/",
          "height": 34
        },
        "outputId": "b90eda70-a9e6-4f9d-ad0a-720a0b99dfe6"
      },
      "source": [
        "np.percentile(bootstrap_replicates, [2.5, 97.5])"
      ],
      "execution_count": 36,
      "outputs": [
        {
          "output_type": "execute_result",
          "data": {
            "text/plain": [
              "array([49.10211298, 50.89615261])"
            ]
          },
          "metadata": {
            "tags": []
          },
          "execution_count": 36
        }
      ]
    },
    {
      "cell_type": "code",
      "metadata": {
        "id": "VkTYRIs43SfP",
        "colab_type": "code",
        "colab": {
          "base_uri": "https://localhost:8080/",
          "height": 34
        },
        "outputId": "1978ef9e-2401-4601-ff67-750866499919"
      },
      "source": [
        "bootstrap_replicates.std()"
      ],
      "execution_count": 34,
      "outputs": [
        {
          "output_type": "execute_result",
          "data": {
            "text/plain": [
              "0.45738144252706786"
            ]
          },
          "metadata": {
            "tags": []
          },
          "execution_count": 34
        }
      ]
    },
    {
      "cell_type": "markdown",
      "metadata": {
        "id": "XJxpEnPs4JU8",
        "colab_type": "text"
      },
      "source": [
        "## Simulating Sampling Distribution of Variances"
      ]
    },
    {
      "cell_type": "code",
      "metadata": {
        "id": "cbX4QkG33Uh5",
        "colab_type": "code",
        "colab": {}
      },
      "source": [
        "normal = np.random.normal(100, 5, size=1000000)\n",
        "sample = np.random.choice(normal, size=30, replace=False)"
      ],
      "execution_count": 0,
      "outputs": []
    },
    {
      "cell_type": "code",
      "metadata": {
        "id": "Irpfzkzo4fhm",
        "colab_type": "code",
        "colab": {
          "base_uri": "https://localhost:8080/",
          "height": 282
        },
        "outputId": "4fdde8e8-7c59-4ece-9f93-b8c0b04dea83"
      },
      "source": [
        "sns.distplot(normal)"
      ],
      "execution_count": 58,
      "outputs": [
        {
          "output_type": "execute_result",
          "data": {
            "text/plain": [
              "<matplotlib.axes._subplots.AxesSubplot at 0x7fcbf42a2908>"
            ]
          },
          "metadata": {
            "tags": []
          },
          "execution_count": 58
        },
        {
          "output_type": "display_data",
          "data": {
            "image/png": "[encoded data removed]",
            "text/plain": [
              "<Figure size 432x288 with 1 Axes>"
            ]
          },
          "metadata": {
            "tags": [],
            "needs_background": "light"
          }
        }
      ]
    },
    {
      "cell_type": "code",
      "metadata": {
        "id": "r7K5Y3fG4mgg",
        "colab_type": "code",
        "colab": {}
      },
      "source": [
        "bootstrap_replicates = np.empty(10000)\n",
        "for i in range(10000):\n",
        "    bootstrap_sample = np.random.choice(sample, size=sample.shape[0])\n",
        "    bootstrap_replicates[i] = bootstrap_sample.var()"
      ],
      "execution_count": 0,
      "outputs": []
    },
    {
      "cell_type": "code",
      "metadata": {
        "id": "0IK4OUkf49dv",
        "colab_type": "code",
        "colab": {
          "base_uri": "https://localhost:8080/",
          "height": 282
        },
        "outputId": "5aff57e0-54b5-4a0b-c27b-baea8d1f3f55"
      },
      "source": [
        "sns.distplot(bootstrap_replicates)"
      ],
      "execution_count": 60,
      "outputs": [
        {
          "output_type": "execute_result",
          "data": {
            "text/plain": [
              "<matplotlib.axes._subplots.AxesSubplot at 0x7fcbf3fc4390>"
            ]
          },
          "metadata": {
            "tags": []
          },
          "execution_count": 60
        },
        {
          "output_type": "display_data",
          "data": {
            "image/png": "[encoded data removed]",
            "text/plain": [
              "<Figure size 432x288 with 1 Axes>"
            ]
          },
          "metadata": {
            "tags": [],
            "needs_background": "light"
          }
        }
      ]
    }
  ]
}